{
 "cells": [
  {
   "cell_type": "code",
   "execution_count": 1,
   "id": "edeb5a5b",
   "metadata": {},
   "outputs": [
    {
     "name": "stdout",
     "output_type": "stream",
     "text": [
      "Requirement already satisfied: psycopg2 in c:\\users\\prabh\\anaconda3\\lib\\site-packages (2.9.3)Note: you may need to restart the kernel to use updated packages.\n",
      "\n"
     ]
    }
   ],
   "source": [
    "pip install psycopg2"
   ]
  },
  {
   "cell_type": "code",
   "execution_count": 12,
   "id": "dde29a93",
   "metadata": {},
   "outputs": [],
   "source": [
    "import psycopg2"
   ]
  },
  {
   "cell_type": "markdown",
   "id": "c8f3562a",
   "metadata": {},
   "source": [
    "creating connection to the database"
   ]
  },
  {
   "cell_type": "code",
   "execution_count": 13,
   "id": "8c553d1e",
   "metadata": {},
   "outputs": [],
   "source": [
    "try:\n",
    "    conn = psycopg2.connect(\"host = 127.0.0.1 dbname = postgres user=postgres password=root\")\n",
    "except psycopg2.Error as e:\n",
    "    print(\"Error: could not make connection to the Postgres Database\")\n",
    "    print(e)"
   ]
  },
  {
   "cell_type": "markdown",
   "id": "ec324273",
   "metadata": {},
   "source": [
    "use the connection(conn, variable i above created) to get a cursor that can be used to execute\n"
   ]
  },
  {
   "cell_type": "code",
   "execution_count": 14,
   "id": "bdd92da7",
   "metadata": {},
   "outputs": [],
   "source": [
    "try:\n",
    "    cur = conn.cursor()\n",
    "except psycopg2.Error as e:\n",
    "    print(\"Error: could not get cursor to the postgres\")\n",
    "    print(e)"
   ]
  },
  {
   "cell_type": "markdown",
   "id": "e98ac040",
   "metadata": {},
   "source": [
    "set automatic commit to be true so that each action isi committed without having to call conn.commit() after each command.\n"
   ]
  },
  {
   "cell_type": "code",
   "execution_count": 15,
   "id": "ddf228b7",
   "metadata": {},
   "outputs": [],
   "source": [
    "conn.set_session(autocommit = True)"
   ]
  },
  {
   "cell_type": "markdown",
   "id": "5a322d8f",
   "metadata": {},
   "source": [
    "    Create database to do work in "
   ]
  },
  {
   "cell_type": "code",
   "execution_count": 16,
   "id": "85b1f737",
   "metadata": {},
   "outputs": [
    {
     "name": "stdout",
     "output_type": "stream",
     "text": [
      "database \"myfirstdb\" already exists\n",
      "\n"
     ]
    }
   ],
   "source": [
    "try:\n",
    "    cur.execute(\"create database myfirstdb\")\n",
    "except psycopg2.Error as e:\n",
    "    print(e)"
   ]
  },
  {
   "cell_type": "markdown",
   "id": "6db4b8ed",
   "metadata": {},
   "source": [
    "the above connection is with dbname= postgres but we want to the connection with our recently created database i.e dbname = myfirstdb\n",
    "\n",
    "so for that first we need to close the connection with the postgres that we while ago created  \n",
    "    and then establish the new connection with myfirstdb i.e dbname = myfirstdb and \n",
    "    then get the cursor \n",
    "    then set automatic commit so that we dont have to write commit() after running our query"
   ]
  },
  {
   "cell_type": "code",
   "execution_count": 17,
   "id": "8b379d77",
   "metadata": {},
   "outputs": [],
   "source": [
    "try:\n",
    "    conn.close()\n",
    "except psycopg2.Error as e:\n",
    "    print(e)\n",
    "\n",
    "try:\n",
    "    conn = psycopg2.connect(\"host = 127.0.0.1 dbname= myfirstdb user= postgres password= root\")\n",
    "except psycopg2.Error as e:\n",
    "    print(\"Error: could not make connection to the postgres\")\n",
    "    print(e)\n",
    "    \n",
    "try:\n",
    "    cur = conn.cursor()\n",
    "except psycopg2.Error as e:\n",
    "    print(\"Error: could not get the cursor to the database\")\n",
    "    print(e)\n",
    "    \n",
    "conn.set_session(autocommit = True)"
   ]
  },
  {
   "cell_type": "markdown",
   "id": "850a314e",
   "metadata": {},
   "source": [
    "Create table for students which includes below column:\n",
    "student_id\n",
    "name\n",
    "age\n",
    "gender\n",
    "subject\n",
    "marks\n",
    "\n",
    "syntax: cur.execute(\"CREATE TABLE IF NOT EXIST students(column_name data_type,column_name dtype);\") "
   ]
  },
  {
   "cell_type": "code",
   "execution_count": 18,
   "id": "2a66e8ae",
   "metadata": {},
   "outputs": [],
   "source": [
    "try:\n",
    "    cur.execute(\"CREATE TABLE IF NOT EXISTS students (student_id int, name varchar, age int,\\\n",
    "    gender varchar, subject varchar, marks int);\")\n",
    "except psycopg2.Error as e:\n",
    "    print(\"Error: could not create table \")\n",
    "    print(e)"
   ]
  },
  {
   "cell_type": "markdown",
   "id": "68b6b62c",
   "metadata": {},
   "source": [
    "Insert the following two rows in the table .\n",
    "\n",
    "first row : 1, \"surya\", 23, \"male\", \"Python\", 90.\n",
    "second row : 2, \"swagger\", 22, \"male\", \"Python\", 95"
   ]
  },
  {
   "cell_type": "code",
   "execution_count": 22,
   "id": "74657fa1",
   "metadata": {},
   "outputs": [],
   "source": [
    "try:\n",
    "    cur.execute(\"INSERT INTO students (student_id, name, age, gender, subject, marks) \\\n",
    "    VALUES(%s, %s, %s, %s, %s, %s)\",\\\n",
    "    (1, \"surya\", 23, \"male\", \"Python\", 90))\n",
    "except psycopg2.Error as e:\n",
    "    print(\"Error: Inserting row\")\n",
    "    print(e)\n",
    "    \n",
    "try:\n",
    "    cur.execute(\"INSERT INTO students(student_id,name,age,gender,subject,marks)\\\n",
    "    VALUES(%s,%s,%s,%s,%s,%s)\",\\\n",
    "    (2, \"swagger\", 22, \"male\", \"Python\", 95))\n",
    "except psycopg2.Error as e:\n",
    "    print(\"Error: Inseting row\")\n",
    "    print(e)"
   ]
  },
  {
   "cell_type": "code",
   "execution_count": 10,
   "id": "d1a69542",
   "metadata": {},
   "outputs": [],
   "source": []
  },
  {
   "cell_type": "code",
   "execution_count": 24,
   "id": "1ff44355",
   "metadata": {},
   "outputs": [],
   "source": [
    "conn.commit()"
   ]
  }
 ],
 "metadata": {
  "kernelspec": {
   "display_name": "Python 3 (ipykernel)",
   "language": "python",
   "name": "python3"
  },
  "language_info": {
   "codemirror_mode": {
    "name": "ipython",
    "version": 3
   },
   "file_extension": ".py",
   "mimetype": "text/x-python",
   "name": "python",
   "nbconvert_exporter": "python",
   "pygments_lexer": "ipython3",
   "version": "3.9.12"
  }
 },
 "nbformat": 4,
 "nbformat_minor": 5
}
